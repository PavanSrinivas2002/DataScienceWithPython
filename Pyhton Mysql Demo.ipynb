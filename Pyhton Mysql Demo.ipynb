{
 "cells": [
  {
   "cell_type": "code",
   "execution_count": 1,
   "metadata": {},
   "outputs": [],
   "source": [
    "import mysql.connector"
   ]
  },
  {
   "cell_type": "code",
   "execution_count": 2,
   "metadata": {},
   "outputs": [
    {
     "name": "stdout",
     "output_type": "stream",
     "text": [
      "<mysql.connector.connection_cext.CMySQLConnection object at 0x0000017008E29CA0>\n"
     ]
    }
   ],
   "source": [
    "db_connection=mysql.connector.connect(host=\"localhost\",user=\"root\",passwd=\"root\",auth_plugin=\"mysql_native_password\")\n",
    "print(db_connection)"
   ]
  },
  {
   "cell_type": "code",
   "execution_count": 18,
   "metadata": {},
   "outputs": [
    {
     "name": "stdout",
     "output_type": "stream",
     "text": [
      "('covid19',)\n",
      "('information_schema',)\n",
      "('inlab1',)\n",
      "('inlab2',)\n",
      "('l7inlab1',)\n",
      "('l7post',)\n",
      "('myschema',)\n",
      "('mysql',)\n",
      "('new',)\n",
      "('pavan',)\n",
      "('peergradedassignment',)\n",
      "('performance_schema',)\n",
      "('post',)\n",
      "('project',)\n",
      "('sakila',)\n",
      "('skill7',)\n",
      "('sqlexample',)\n",
      "('student',)\n",
      "('sys',)\n",
      "('world',)\n"
     ]
    }
   ],
   "source": [
    "db_cursor=db_connection.cursor()\n",
    "db_cursor.execute(\"show databases\")\n",
    "for db in db_cursor:\n",
    "    print(db)"
   ]
  },
  {
   "cell_type": "code",
   "execution_count": null,
   "metadata": {},
   "outputs": [],
   "source": [
    "db_cursor.execute(\"create database new\")"
   ]
  },
  {
   "cell_type": "code",
   "execution_count": null,
   "metadata": {},
   "outputs": [],
   "source": [
    "db_cursor.execute(\"use new\")"
   ]
  },
  {
   "cell_type": "code",
   "execution_count": 15,
   "metadata": {},
   "outputs": [],
   "source": [
    "db_cursor.execute(\"create table empl(id int primary key,name varchar(100))\")"
   ]
  },
  {
   "cell_type": "code",
   "execution_count": 19,
   "metadata": {},
   "outputs": [],
   "source": [
    "db_cursor.execute(\"create table stu(id int primary key,name varchar(100))\")"
   ]
  },
  {
   "cell_type": "code",
   "execution_count": 20,
   "metadata": {},
   "outputs": [
    {
     "name": "stdout",
     "output_type": "stream",
     "text": [
      "('empl',)\n",
      "('stu',)\n"
     ]
    }
   ],
   "source": [
    "db_cursor.execute(\"show tables\")\n",
    "for table in db_cursor:\n",
    "    print(table)"
   ]
  },
  {
   "cell_type": "code",
   "execution_count": 22,
   "metadata": {},
   "outputs": [],
   "source": [
    "db_cursor.execute(\"alter table empl add gender varchar(100)\")"
   ]
  },
  {
   "cell_type": "code",
   "execution_count": null,
   "metadata": {},
   "outputs": [],
   "source": [
    "db_cursor.execute(\"insert into empl values(1,'surya','male')\")\n",
    "db_connection.commit()\n",
    "print(db_cursor.rowcount,\" Record Inserted\")"
   ]
  },
  {
   "cell_type": "code",
   "execution_count": 28,
   "metadata": {},
   "outputs": [
    {
     "name": "stdout",
     "output_type": "stream",
     "text": [
      "1  Record Inserted\n"
     ]
    }
   ],
   "source": [
    "db_cursor.execute(\"insert into empl values(2,'klu','male')\")\n",
    "db_connection.commit()\n",
    "print(db_cursor.rowcount,\" Record Inserted\")"
   ]
  },
  {
   "cell_type": "code",
   "execution_count": 30,
   "metadata": {},
   "outputs": [
    {
     "name": "stdout",
     "output_type": "stream",
     "text": [
      "1  Record Inserted\n"
     ]
    }
   ],
   "source": [
    "db_cursor.execute(\"insert into empl values(3,'pavan','male')\")\n",
    "db_connection.commit()\n",
    "print(db_cursor.rowcount,\" Record Inserted\")"
   ]
  },
  {
   "cell_type": "code",
   "execution_count": 34,
   "metadata": {},
   "outputs": [
    {
     "name": "stdout",
     "output_type": "stream",
     "text": [
      "3  Record(s) Updated\n"
     ]
    }
   ],
   "source": [
    "db_cursor.execute(\" update empl set name='klef' \")\n",
    "db_connection.commit()\n",
    "print(db_cursor.rowcount,\" Record(s) Updated\")"
   ]
  },
  {
   "cell_type": "code",
   "execution_count": 36,
   "metadata": {},
   "outputs": [
    {
     "name": "stdout",
     "output_type": "stream",
     "text": [
      "1  Record(s) Updated\n"
     ]
    }
   ],
   "source": [
    "db_cursor.execute(\" update empl set name='surya' where id=1 \")\n",
    "db_connection.commit()\n",
    "print(db_cursor.rowcount,\" Record(s) Updated\")"
   ]
  },
  {
   "cell_type": "code",
   "execution_count": 37,
   "metadata": {},
   "outputs": [
    {
     "name": "stdout",
     "output_type": "stream",
     "text": [
      "1  Record(s) Deleted\n"
     ]
    }
   ],
   "source": [
    "db_cursor.execute(\"delete from empl where id=1\")\n",
    "db_connection.commit()\n",
    "print(db_cursor.rowcount,\" Record(s) Deleted\")"
   ]
  },
  {
   "cell_type": "code",
   "execution_count": 39,
   "metadata": {},
   "outputs": [
    {
     "name": "stdout",
     "output_type": "stream",
     "text": [
      "2 klef male\n",
      "3 klef male\n"
     ]
    }
   ],
   "source": [
    "db_cursor.execute(\"select * from empl\")\n",
    "for row in db_cursor:\n",
    "    print(row[0],row[1],row[2])\n"
   ]
  },
  {
   "cell_type": "code",
   "execution_count": 40,
   "metadata": {},
   "outputs": [
    {
     "name": "stdout",
     "output_type": "stream",
     "text": [
      "(2, 'klef', 'male')\n",
      "(3, 'klef', 'male')\n"
     ]
    }
   ],
   "source": [
    "db_cursor.execute(\"select * from empl\")\n",
    "for row in db_cursor:\n",
    "    print(row)"
   ]
  },
  {
   "cell_type": "code",
   "execution_count": 42,
   "metadata": {},
   "outputs": [
    {
     "name": "stdout",
     "output_type": "stream",
     "text": [
      "[(2,)]\n"
     ]
    }
   ],
   "source": [
    "db_cursor.execute(\"select count(*) from empl\")\n",
    "print(list(db_cursor))\n"
   ]
  },
  {
   "cell_type": "code",
   "execution_count": null,
   "metadata": {},
   "outputs": [],
   "source": []
  },
  {
   "cell_type": "code",
   "execution_count": 44,
   "metadata": {},
   "outputs": [
    {
     "name": "stdout",
     "output_type": "stream",
     "text": [
      "[('klef',), ('klef',)]\n"
     ]
    }
   ],
   "source": [
    "db_cursor.execute(\"select name from empl\")\n",
    "print(list(db_cursor))"
   ]
  },
  {
   "cell_type": "code",
   "execution_count": null,
   "metadata": {},
   "outputs": [],
   "source": []
  }
 ],
 "metadata": {
  "kernelspec": {
   "display_name": "Python 3",
   "language": "python",
   "name": "python3"
  },
  "language_info": {
   "codemirror_mode": {
    "name": "ipython",
    "version": 3
   },
   "file_extension": ".py",
   "mimetype": "text/x-python",
   "name": "python",
   "nbconvert_exporter": "python",
   "pygments_lexer": "ipython3",
   "version": "3.8.3"
  }
 },
 "nbformat": 4,
 "nbformat_minor": 4
}
