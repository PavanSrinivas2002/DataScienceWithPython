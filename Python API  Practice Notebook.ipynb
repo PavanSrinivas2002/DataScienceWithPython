{
 "cells": [
  {
   "cell_type": "code",
   "execution_count": 2,
   "metadata": {},
   "outputs": [],
   "source": [
    "#Speech to text\n",
    "#api key:-  -5kX4fefIc48WTv_KRT0qERGHMGZm1lfviNbjKsRjwLz\n",
    "#url:-      https://api.eu-gb.speech-to-text.watson.cloud.ibm.com/instances/7180b995-9fe6-4ee7-9151-4608c3520cac"
   ]
  },
  {
   "cell_type": "code",
   "execution_count": 3,
   "metadata": {},
   "outputs": [],
   "source": [
    "#language translator\n",
    "#api key:- MGKSnUrASkidd8vcf1DMa138JOXuFedeewGQrjMNp33F\n",
    "#url:-     https://api.eu-gb.language-translator.watson.cloud.ibm.com/instances/93346e5a-710e-40f0-af4c-b4604771e8b8"
   ]
  },
  {
   "cell_type": "code",
   "execution_count": null,
   "metadata": {},
   "outputs": [],
   "source": [
    "from ibm_watson"
   ]
  }
 ],
 "metadata": {
  "kernelspec": {
   "display_name": "Python 3",
   "language": "python",
   "name": "python3"
  },
  "language_info": {
   "codemirror_mode": {
    "name": "ipython",
    "version": 3
   },
   "file_extension": ".py",
   "mimetype": "text/x-python",
   "name": "python",
   "nbconvert_exporter": "python",
   "pygments_lexer": "ipython3",
   "version": "3.8.3"
  }
 },
 "nbformat": 4,
 "nbformat_minor": 4
}
