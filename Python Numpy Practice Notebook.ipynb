{
 "cells": [
  {
   "cell_type": "code",
   "execution_count": 1,
   "metadata": {},
   "outputs": [],
   "source": [
    "#Numpy practice\n",
    "import numpy as np"
   ]
  },
  {
   "cell_type": "code",
   "execution_count": 2,
   "metadata": {},
   "outputs": [
    {
     "name": "stdout",
     "output_type": "stream",
     "text": [
      "1.18.5\n"
     ]
    }
   ],
   "source": [
    "#numpy version\n",
    "print(np.__version__)"
   ]
  },
  {
   "cell_type": "code",
   "execution_count": 8,
   "metadata": {},
   "outputs": [
    {
     "name": "stdout",
     "output_type": "stream",
     "text": [
      "[1 2 3 4]\n",
      "<class 'numpy.ndarray'>\n"
     ]
    }
   ],
   "source": [
    "#CREATING ARRAYS \n",
    "array=np.array([1,2,3,4])\n",
    "print(array)\n",
    "#type\n",
    "print(type(array))"
   ]
  },
  {
   "cell_type": "code",
   "execution_count": 12,
   "metadata": {},
   "outputs": [],
   "source": [
    "#we can also convert tuple into numpy arrays like lists\n",
    "array=np.array((1,2,3,4))"
   ]
  },
  {
   "cell_type": "code",
   "execution_count": 11,
   "metadata": {},
   "outputs": [
    {
     "data": {
      "text/plain": [
       "array([[1, 2, 3, 4],\n",
       "       [5, 6, 7, 8]])"
      ]
     },
     "execution_count": 11,
     "metadata": {},
     "output_type": "execute_result"
    }
   ],
   "source": [
    "#creating 2d arrays\n",
    "array2d=np.array([[1,2,3,4],[5,6,7,8]])\n",
    "array2d"
   ]
  },
  {
   "cell_type": "code",
   "execution_count": 15,
   "metadata": {},
   "outputs": [
    {
     "data": {
      "text/plain": [
       "array([[[1, 2, 3, 4],\n",
       "        [5, 6, 7, 8]],\n",
       "\n",
       "       [[1, 2, 3, 4],\n",
       "        [5, 6, 7, 8]]])"
      ]
     },
     "execution_count": 15,
     "metadata": {},
     "output_type": "execute_result"
    }
   ],
   "source": [
    "#creating 3d arrays\n",
    "array3d=np.array([[[1,2,3,4],[5,6,7,8]],[[1,2,3,4],[5,6,7,8]]])\n",
    "array3d"
   ]
  },
  {
   "cell_type": "code",
   "execution_count": 18,
   "metadata": {},
   "outputs": [
    {
     "name": "stdout",
     "output_type": "stream",
     "text": [
      "1\n",
      "2\n",
      "3\n"
     ]
    }
   ],
   "source": [
    "#ndim is used to display dimension of an array\n",
    "print(array.ndim)\n",
    "print(array2d.ndim)\n",
    "print(array3d.ndim)"
   ]
  },
  {
   "cell_type": "code",
   "execution_count": 32,
   "metadata": {},
   "outputs": [
    {
     "name": "stdout",
     "output_type": "stream",
     "text": [
      "1\n",
      "4\n",
      "5\n"
     ]
    }
   ],
   "source": [
    "#ARRAY INDEXING\n",
    "a1=np.array([1,2,3,4])\n",
    "print(a1[0])\n",
    "print(a1[3])\n",
    "print(a1[0]+a1[3])"
   ]
  },
  {
   "cell_type": "code",
   "execution_count": 23,
   "metadata": {},
   "outputs": [
    {
     "name": "stdout",
     "output_type": "stream",
     "text": [
      "7\n",
      "2\n",
      "9\n"
     ]
    }
   ],
   "source": [
    "#Array Indexing for 2d arrays\n",
    "a2d=np.array([[1,2,3,4],[5,6,7,8]])\n",
    "# element on 2nd row(index 1)and 3rd column(index 2)\n",
    "print(a2d[1,2])\n",
    "# element on 1st row(index 1)and 2rd column(index 2)\n",
    "print(a2d[0,1])\n",
    "#addition of them\n",
    "print(a2d[1,2]+a2d[0,1])\n"
   ]
  },
  {
   "cell_type": "code",
   "execution_count": 30,
   "metadata": {},
   "outputs": [
    {
     "name": "stdout",
     "output_type": "stream",
     "text": [
      "4\n",
      "1\n",
      "7\n",
      "7\n"
     ]
    }
   ],
   "source": [
    "#negative indexing\n",
    "print(a1[-1])\n",
    "print(a1[-4])\n",
    "print(a2d[-1,2]) #negative represents from backside starts from -1 and continues from back as -2,-3,-4....\n",
    "print(a2d[-1,-2])"
   ]
  },
  {
   "cell_type": "code",
   "execution_count": 4,
   "metadata": {},
   "outputs": [
    {
     "name": "stdout",
     "output_type": "stream",
     "text": [
      "[2 3]\n",
      "[3]\n",
      "[4 5 6 7 8]\n",
      "[3 4 5 6 7 8]\n",
      "[1 2 3 4 5]\n",
      "[6 7]\n",
      "[5 6 7 8]\n",
      "[1 2 3 4 5 6]\n"
     ]
    }
   ],
   "source": [
    "#SLICING\n",
    "#We pass slice instead of index like this: [start:end].\n",
    "a1=np.array([1,2,3,4,5,6,7,8])\n",
    "#The result includes the start index, but excludes the end index.\n",
    "print(a1[1:3])\n",
    "print(a1[2:3])\n",
    "print(a1[3:8])\n",
    "#If we don't pass end its considered length of array in that dimension\n",
    "print(a1[2:])\n",
    "#If we don't pass start its considered 0\n",
    "print(a1[:5])\n",
    "#Negative slicing \n",
    "print(a1[-3:-1])\n",
    "print(a1[-4:])\n",
    "print(a1[:-2])\n"
   ]
  },
  {
   "cell_type": "code",
   "execution_count": 3,
   "metadata": {},
   "outputs": [
    {
     "name": "stdout",
     "output_type": "stream",
     "text": [
      "[2 4 6 8]\n",
      "[2 3 4 5 6 7 8]\n",
      "[1 3 5 7]\n"
     ]
    }
   ],
   "source": [
    "#We can also define the step, like this: [start:end:step].\n",
    "print(a1[1:8:2])#will take 2 steps from start\n",
    "#If we don't pass step its considered 1\n",
    "print(a1[1:8:])\n",
    "#if we dont provide start and stop they will consider as first and last\n",
    "print(a1[::2])"
   ]
  },
  {
   "cell_type": "code",
   "execution_count": null,
   "metadata": {},
   "outputs": [],
   "source": [
    "#Slicing 2d arrays "
   ]
  }
 ],
 "metadata": {
  "kernelspec": {
   "display_name": "Python 3",
   "language": "python",
   "name": "python3"
  },
  "language_info": {
   "codemirror_mode": {
    "name": "ipython",
    "version": 3
   },
   "file_extension": ".py",
   "mimetype": "text/x-python",
   "name": "python",
   "nbconvert_exporter": "python",
   "pygments_lexer": "ipython3",
   "version": "3.8.3"
  }
 },
 "nbformat": 4,
 "nbformat_minor": 4
}
