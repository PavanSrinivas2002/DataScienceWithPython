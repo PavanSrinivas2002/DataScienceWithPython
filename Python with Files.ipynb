{
 "cells": [
  {
   "cell_type": "code",
   "execution_count": 8,
   "metadata": {},
   "outputs": [
    {
     "name": "stdout",
     "output_type": "stream",
     "text": [
      "Process Completed\n"
     ]
    }
   ],
   "source": [
    "with open(\"demo.txt\",\"w\") as f:\n",
    "    f.write(\"KLUNIVERSITY\\n\")\n",
    "    f.write(\"KLU\\n\")\n",
    "    f.write(\"PFSD LECTURE\\n\\n\")\n",
    "    f.write(\"Y19 CLUSTER-2 POOL-4\")\n",
    "    print(\"Process Completed\")\n",
    "\n"
   ]
  },
  {
   "cell_type": "code",
   "execution_count": 9,
   "metadata": {},
   "outputs": [
    {
     "name": "stdout",
     "output_type": "stream",
     "text": [
      "KLUNIVERSITY\n",
      "KLU\n",
      "PFSD LECTURE\n",
      "\n",
      "Y19 CLUSTER-2 POOL-4"
     ]
    }
   ],
   "source": [
    "with open(\"demo.txt\",\"r\") as f:\n",
    "    for line in f:\n",
    "        print(line,end=\"\")"
   ]
  },
  {
   "cell_type": "code",
   "execution_count": 10,
   "metadata": {},
   "outputs": [],
   "source": [
    "with open(\"demo.txt\",\"r\") as f1 , open('demo2.txt','w') as f2:\n",
    "    for line in f1:\n",
    "        f2.write(line)"
   ]
  },
  {
   "cell_type": "code",
   "execution_count": 12,
   "metadata": {},
   "outputs": [
    {
     "name": "stdout",
     "output_type": "stream",
     "text": [
      "KLUNIVERSITY\n",
      "KLU\n",
      "PFSD LECTURE\n",
      "\n",
      "Y19 CLUSTER-2 POOL-4\n",
      "No Exception\n"
     ]
    }
   ],
   "source": [
    "try:\n",
    "    with open(\"demo.txt\",\"r\") as file:\n",
    "        for line in file:\n",
    "            print(line,end=\"\")\n",
    "except:\n",
    "    print(\"Exception Occurred\")\n",
    "else:\n",
    "    print(\"\\nNo Exception\")"
   ]
  },
  {
   "cell_type": "code",
   "execution_count": 13,
   "metadata": {},
   "outputs": [
    {
     "name": "stdout",
     "output_type": "stream",
     "text": [
      "Exception Occurred\n"
     ]
    }
   ],
   "source": [
    "try:\n",
    "    with open(\"klu.txt\",\"r\") as file:\n",
    "        for line in file:\n",
    "            print(line,end=\"\")\n",
    "except:\n",
    "    print(\"Exception Occurred\")\n",
    "else:\n",
    "    print(\"\\nNo Exception\")"
   ]
  },
  {
   "cell_type": "code",
   "execution_count": 14,
   "metadata": {},
   "outputs": [
    {
     "name": "stdout",
     "output_type": "stream",
     "text": [
      "Exception Occurred\n"
     ]
    }
   ],
   "source": [
    "try:\n",
    "    with open(\"klu.txt\",\"r\") as file:\n",
    "        for line in file:\n",
    "            print(line,end=\"\")\n",
    "except FileNotFoundError:\n",
    "     print(\"Exception Occurred\")\n",
    "else:\n",
    "    print(\"\\nNo Exception\")"
   ]
  },
  {
   "cell_type": "code",
   "execution_count": 15,
   "metadata": {},
   "outputs": [
    {
     "name": "stdout",
     "output_type": "stream",
     "text": [
      "[Errno 2] No such file or directory: 'klu.txt'\n"
     ]
    }
   ],
   "source": [
    "try:\n",
    "    with open(\"klu.txt\",\"r\") as file:\n",
    "        for line in file:\n",
    "            print(line,end=\"\")\n",
    "except Exception as e:\n",
    "    print(e)\n",
    "else:\n",
    "    print(\"\\nNo Exception\")"
   ]
  },
  {
   "cell_type": "code",
   "execution_count": 7,
   "metadata": {},
   "outputs": [
    {
     "name": "stdout",
     "output_type": "stream",
     "text": [
      "KLUNIVERSITY\n",
      "\n",
      "KLU\n",
      "\n",
      "PFSD LECTURE\n",
      "\n",
      "\n",
      "\n",
      "Y19 CLUSTER-2 POOL-4\n"
     ]
    }
   ],
   "source": [
    "with open(\"demo.txt\",\"r\") as file:\n",
    "    for line in file:\n",
    "        print(line)"
   ]
  },
  {
   "cell_type": "code",
   "execution_count": 8,
   "metadata": {},
   "outputs": [],
   "source": [
    "with open(\"demo.txt\",\"w\") as file:\n",
    "    file.write(\"KLEF\")"
   ]
  },
  {
   "cell_type": "code",
   "execution_count": null,
   "metadata": {},
   "outputs": [],
   "source": []
  }
 ],
 "metadata": {
  "kernelspec": {
   "display_name": "Python 3",
   "language": "python",
   "name": "python3"
  },
  "language_info": {
   "codemirror_mode": {
    "name": "ipython",
    "version": 3
   },
   "file_extension": ".py",
   "mimetype": "text/x-python",
   "name": "python",
   "nbconvert_exporter": "python",
   "pygments_lexer": "ipython3",
   "version": "3.8.3"
  }
 },
 "nbformat": 4,
 "nbformat_minor": 4
}
